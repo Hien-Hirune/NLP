{
 "cells": [
  {
   "cell_type": "markdown",
   "source": [
    "# Trích xuất email, địa chỉ web, số điện thoại từ văn bản\n",
    "\n",
    "- Họ và tên: Phạm Thị Hoài Hiền\n",
    "- MSSV: 18120178"
   ],
   "metadata": {}
  },
  {
   "cell_type": "code",
   "execution_count": 1,
   "source": [
    "f = open('data.txt', 'r', encoding='UTF-8')\n",
    "data = f.read()\n",
    "print(data)\n",
    "f.close()\n",
    "\n",
    "# with open('data.txt', 'r', encoding='UTF-8') as f:\n",
    "#     data = [s.strip() for s in f.readlines() if s != '\\n']"
   ],
   "outputs": [
    {
     "output_type": "stream",
     "name": "stdout",
     "text": [
      "Công ty cổ phần công nghệ NASO cần tuyển nhân viên DEV. Hồ sơ ứng viên gửi về địa chỉ email: nasojsc@gmail.com\n",
      "Tiêu đề ghi rõ vị trí ứng tuyển và họ tên ứng viên\n",
      "Số điện thoại liên hệ: 0937612178 (ms Hiền)\n",
      "Website: https://naso.com/\n",
      "\n",
      "Inbox để mình tư vấn thêm về các vị trí vị trí nhé!\n",
      "Thông tin liên hệ:\n",
      "- mail: nguyenthuyduyen2107@gmail.com\n",
      "- Phone/Zalo: 0326 777 217\n",
      "- About Sipher: https://sipher.xyz/\n",
      "\n",
      "For further discussion, send your application via\n",
      "Email: dek-vn-ta@dektech.com.au\n",
      "Website: https://www.dektech.com.au/vietnam/\n",
      "\n",
      "(HCM) Mình cần tuyển vị trí PHP từ 3 năm kinh nghiệm, tech Laravel, ReactJS lương up tp $3000 và Python tech Django (2 năm kinh nghiệm) lương open. Inb mình để nhận JD liền tay.\n",
      "Skype: myhuyen96\n",
      "Zalo: 0967497087\n",
      "Email: chloe@diffwheels.com\n",
      "\n",
      "Mọi người cứ ping nhẹ mình để nhận JD chi tiết nhé\n",
      "Hoặc gửi CV về mail: hr@miichisoft.com\n",
      "Địa chỉ: Tầng 2 tòa Green Park, Dương Đình Nghệ, Yên Hòa, Cầu Giấy, HN\n",
      "\n",
      "MeCar đang cần tuyển gấp 03 PYTHON BACKEND ENGINEER (Database, Linux)\n",
      "Salary: up to 35 mil\n",
      "Kinh nghiệm: 1 năm\n",
      "Thời gian làm việc: Thứ 2 - Thứ 6 (Off Thứ 7 & Chủ nhật)\n",
      "Địa điểm làm việc: C10 Điện Biên Phủ, Phường 25, Quận Bình Thạnh, TPHCM\n",
      "Các bạn vui lòng gửi CV về mail: kimhoang.nguyen@mecar.vn\n",
      "Thanks all\n",
      "\n",
      "Sau mỗi buổi học đều có record và slide, bài tập. Thầy sẽ hướng dẫn giải đáp trực tiếp qua 2 kênh zalo và slack.\n",
      "Zalo/Call Ms Thảo: 0941921602\n",
      "\n",
      "Chi tiết công việc: https://bit.ly/3k7VGQ2\n",
      "Gửi email ứng tuyển về địa chỉ recruitment@riviu.vn\n",
      "\n",
      "Mạnh tay apply CV theo tiêu đề [RIVICO_VỊ TRÍ] - [HỌ VÀ TÊN]\n",
      "tien.huynh@riviu.vn\n",
      "0901 883 539\n",
      "\n",
      "Liên hệ đăng ký với NINJA VAN tại Zalo: 0904.250.450\n",
      "\n",
      "Form đăng ký: https://forms.gle/ymFVz5eCjpqjwngF7\n",
      "Job Description: https://drive.google.com/.../1OSLFWepIytPCIa1o...\n",
      "Handbook dự án: https://drive.google.com/.../1YG18h0nYKF6tKCNKxvR.../view...\n",
      "Mọi thông tin chi tiết xin vui lòng liên hệ:\n",
      "Facebook: https://www.facebook.com/TheEraofAutonomy/\n",
      "Email: theeraofautonomy@gmail.com\n",
      "Nguyễn Ngọc Hải Đăng (Founder): 0939703655\n",
      "Nguyễn Ngọc Khánh Hà (Co-founder): 0901240475\n",
      "\n",
      "https://tinhoccong.online/ là Nền tảng cung cấp các khóa đào tạo Tin học và Luyện thi chứng chỉ Tin học Văn phòng quốc tế, đơn vị đầu tiên có đầy đủ 3 cấp độ bài thi MOS ONLINE.\n",
      "Hotline/Zalo: 0968 712 271 (Linh)\n",
      "\n",
      "Cơ hội rinh chứng chỉ quốc tế khi tham gia chương trình Đại sứ truyền thông - iVolunteer Ambassador\n",
      "Tham gia với chúng mình ngay tại: https://ivolunteervietnam.com?p=15620\n",
      "\n",
      "Theo dõi fanpage Đoàn khoa - Liên chi Hội CNTT KHTN để luôn nhận được các thông tin mới nhất bạn nhé!\n",
      "Theo dõi ngay trang Tiktok của ĐKLCH CNTT để hiểu rõ hơn về tụi mình nè: www.tiktok.com/@dklch.cntt.itus\n",
      "\n",
      "Thông tin tư vấn vui lòng liên hệ:\n",
      "Mr. Chí Thành - Email: ThanhNC61@fpt.com.vn\n",
      "SĐT: 089 688 7088 hoặc inbox mình để nhận JD và giải đáp thắc mắc.\n",
      "\n",
      "Nhanh tay mua Warrior để trúng quà cực đỉnh như PS5, Winner X tại link này nha cả nhà ưiiii\n",
      "https://tiki.vn/khuyen-mai/nuoc-tang-luc-warrior-chinh-hang\n"
     ]
    }
   ],
   "metadata": {}
  },
  {
   "cell_type": "code",
   "execution_count": 2,
   "source": [
    "len(data)"
   ],
   "outputs": [
    {
     "output_type": "execute_result",
     "data": {
      "text/plain": [
       "2946"
      ]
     },
     "metadata": {},
     "execution_count": 2
    }
   ],
   "metadata": {}
  },
  {
   "cell_type": "code",
   "execution_count": 8,
   "source": [
    "import re\n",
    "\n",
    "def detect(text, type):\n",
    "    \"\"\"\n",
    "    detect all in text with type of pattern (email, phone number, website)\n",
    "    \"\"\"\n",
    "\n",
    "    if type == 'email':\n",
    "        pattern = re.compile(r'[\\w\\.]+@[\\w\\.]+')\n",
    "    elif type == 'phone':\n",
    "        pattern = re.compile(r'\\d{10}|\\d{4} \\d{3} \\d{3}')\n",
    "    else:\n",
    "        pattern = re.compile(r'\\b[https:\\/\\/w{3}]{3,256}[\\w\\.\\/@=?-]*')\n",
    "    i = 0\n",
    "    lst = []\n",
    "    match = pattern.search(text, i)\n",
    "    while match!= None:\n",
    "        #print(match.group(), match.start(), match.end())\n",
    "        lst.append((match.start(), match.end() - match.start(), match.group()))\n",
    "        i = match.end() + 1\n",
    "        match = pattern.search(text, i)\n",
    "    return lst"
   ],
   "outputs": [],
   "metadata": {}
  },
  {
   "cell_type": "code",
   "execution_count": 7,
   "source": [
    "list_email = detect(data, type='email')\n",
    "list_email"
   ],
   "outputs": [
    {
     "output_type": "execute_result",
     "data": {
      "text/plain": [
       "[(93, 17, 'nasojsc@gmail.com'),\n",
       " (313, 29, 'nguyenthuyduyen2107@gmail.com'),\n",
       " (471, 17, 'ta@dektech.com.au'),\n",
       " (754, 20, 'chloe@diffwheels.com'),\n",
       " (848, 17, 'hr@miichisoft.com'),\n",
       " (1210, 24, 'kimhoang.nguyen@mecar.vn'),\n",
       " (1467, 20, 'recruitment@riviu.vn'),\n",
       " (1550, 19, 'tien.huynh@riviu.vn'),\n",
       " (1937, 26, 'theeraofautonomy@gmail.com'),\n",
       " (2706, 20, 'ThanhNC61@fpt.com.vn')]"
      ]
     },
     "metadata": {},
     "execution_count": 7
    }
   ],
   "metadata": {}
  },
  {
   "cell_type": "code",
   "execution_count": 9,
   "source": [
    "list_web = detect(data, type='website')\n",
    "list_web"
   ],
   "outputs": [
    {
     "output_type": "execute_result",
     "data": {
      "text/plain": [
       "[(215, 17, 'https://naso.com/'),\n",
       " (386, 19, 'https://sipher.xyz/'),\n",
       " (498, 35, 'https://www.dektech.com.au/vietnam/'),\n",
       " (1413, 22, 'https://bit.ly/3k7VGQ2'),\n",
       " (1652, 35, 'https://forms.gle/ymFVz5eCjpqjwngF7'),\n",
       " (1705, 49, 'https://drive.google.com/.../1OSLFWepIytPCIa1o...'),\n",
       " (1771, 60, 'https://drive.google.com/.../1YG18h0nYKF6tKCNKxvR.../view...'),\n",
       " (1887, 42, 'https://www.facebook.com/TheEraofAutonomy/'),\n",
       " (2054, 26, 'https://tinhoccong.online/'),\n",
       " (2401, 37, 'https://ivolunteervietnam.com?p=15620'),\n",
       " (2615, 31, 'www.tiktok.com/@dklch.cntt.itus'),\n",
       " (2887, 59, 'https://tiki.vn/khuyen-mai/nuoc-tang-luc-warrior-chinh-hang')]"
      ]
     },
     "metadata": {},
     "execution_count": 9
    }
   ],
   "metadata": {}
  },
  {
   "cell_type": "code",
   "execution_count": 10,
   "source": [
    "list_phone = detect(data, type='phone')\n",
    "list_phone"
   ],
   "outputs": [
    {
     "output_type": "execute_result",
     "data": {
      "text/plain": [
       "[(185, 10, '0937612178'),\n",
       " (357, 12, '0326 777 217'),\n",
       " (736, 10, '0967497087'),\n",
       " (1379, 10, '0941921602'),\n",
       " (1570, 12, '0901 883 539'),\n",
       " (1996, 10, '0939703655'),\n",
       " (2042, 10, '0901240475'),\n",
       " (2246, 12, '0968 712 271')]"
      ]
     },
     "metadata": {},
     "execution_count": 10
    }
   ],
   "metadata": {}
  }
 ],
 "metadata": {
  "orig_nbformat": 4,
  "language_info": {
   "name": "python",
   "version": "3.8.8",
   "mimetype": "text/x-python",
   "codemirror_mode": {
    "name": "ipython",
    "version": 3
   },
   "pygments_lexer": "ipython3",
   "nbconvert_exporter": "python",
   "file_extension": ".py"
  },
  "kernelspec": {
   "name": "python3",
   "display_name": "Python 3.8.8 64-bit ('p4ds-env': conda)"
  },
  "interpreter": {
   "hash": "57f4cef948ccc9b96ac0cc20ee8320321fa71a2ee44658d258ac9241c0d6016f"
  }
 },
 "nbformat": 4,
 "nbformat_minor": 2
}